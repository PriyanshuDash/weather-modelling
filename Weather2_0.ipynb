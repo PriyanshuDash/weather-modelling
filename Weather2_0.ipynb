{
  "nbformat": 4,
  "nbformat_minor": 0,
  "metadata": {
    "colab": {
      "provenance": [],
      "authorship_tag": "ABX9TyNq9rHz9DBjHxErxBuwrjjp",
      "include_colab_link": true
    },
    "kernelspec": {
      "name": "python3",
      "display_name": "Python 3"
    },
    "language_info": {
      "name": "python"
    }
  },
  "cells": [
    {
      "cell_type": "markdown",
      "metadata": {
        "id": "view-in-github",
        "colab_type": "text"
      },
      "source": [
        "<a href=\"https://colab.research.google.com/github/PriyanshuDash/weather-modelling/blob/main/Weather2_0.ipynb\" target=\"_parent\"><img src=\"https://colab.research.google.com/assets/colab-badge.svg\" alt=\"Open In Colab\"/></a>"
      ]
    },
    {
      "cell_type": "code",
      "execution_count": 1,
      "metadata": {
        "colab": {
          "base_uri": "https://localhost:8080/"
        },
        "id": "JjlXR4dfYpjv",
        "outputId": "140fbf97-c72a-426d-c003-3e0f6edbea23"
      },
      "outputs": [
        {
          "output_type": "stream",
          "name": "stdout",
          "text": [
            "Enter Temperature22\n",
            "Enter Humidity69\n",
            "Enter Wind Speed7\n",
            "Sunny\n"
          ]
        }
      ],
      "source": [
        "t=int(input('Enter Temperature'))\n",
        "h=int(input('Enter Humidity'))\n",
        "wind=int(input('Enter Wind Speed'))\n",
        "w=0.5*(t**2)-(0.2*h)+(0.1*wind)-15\n",
        "if w>10:\n",
        "  print(\"Sunny\")\n",
        "elif 0<=w and w<=10:\n",
        "  print(\"Windy\")\n",
        "elif -10<=w and w<0:\n",
        "  print(\"Cloud\")\n",
        "elif w<-10:\n",
        "  print(\"Rainy\")"
      ]
    }
  ]
}